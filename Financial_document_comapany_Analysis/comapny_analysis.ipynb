{
 "cells": [
  {
   "cell_type": "markdown",
   "metadata": {},
   "source": [
    "# RAG Application for Company Analysis\n",
    "\n",
    "## Context\n",
    "I am creating a Retrieval-Augmented Generation (RAG) application for analyzing a random company in the Indian market. The aim is to utilize this application to understand the company better and make informed judgments about its investability. The application is built around an in-depth analysis document of the company, providing comprehensive insights and facilitating better decision-making.\n",
    "\n",
    "## Objectives\n",
    "1. **In-depth Company Analysis**: The application provides detailed analysis of the company, covering various aspects such as financial performance, market position, growth prospects, and risks.\n",
    "2. **Enhanced Understanding**: Users can interact with the RAG application to extract specific information and gain a deeper understanding of the company's performance and potential.\n",
    "3. **Investment Decision Support**: The application assists users in making informed investment decisions by presenting relevant data and insights from the analysis document.\n",
    "\n",
    "## Tech Stack\n",
    "\n",
    "### Langchain Framework\n",
    "The Langchain framework is used for building and managing the language model pipelines. It allows seamless integration of various components required for the RAG application, enabling efficient text generation and retrieval processes.\n",
    "\n",
    "### OpenAI Credentials\n",
    "OpenAI's API is utilized for the natural language processing and text generation capabilities. By leveraging OpenAI's advanced models, the application can provide accurate and contextually relevant responses to user queries.\n",
    "\n",
    "### Vector Store\n",
    "A vector store is employed to store and manage the embeddings of the analysis document. This facilitates efficient retrieval of relevant information based on user queries, enhancing the overall performance and accuracy of the RAG application.\n",
    "\n",
    "## Features\n",
    "- **Interactive Q&A**: Users can ask questions related to the company's analysis, and the application provides precise answers by retrieving relevant information from the document.\n",
    "- **Detailed Insights**: The application presents comprehensive insights into various aspects of the company, helping users understand its strengths, weaknesses, opportunities, and threats.\n",
    "- **Investment Analysis**: By analyzing key metrics and indicators, the application aids in making informed investment decisions regarding the company.\n",
    "- **User-friendly Interface**: The application is designed to be intuitive and user-friendly, allowing users to interact seamlessly and obtain the required information with ease.\n",
    "\n",
    "## Benefits\n",
    "- **Enhanced Decision-Making**: The RAG application provides valuable insights and data, supporting users in making well-informed investment decisions.\n",
    "- **Time Efficiency**: By automating the retrieval and generation of relevant information, the application saves users' time and effort in analyzing the company.\n",
    "- **Accurate Analysis**: Leveraging advanced language models and vector storage, the application ensures the accuracy and relevance of the information presented.\n"
   ]
  },
  {
   "cell_type": "markdown",
   "metadata": {},
   "source": [
    "### Load Dependencies and LLM model"
   ]
  },
  {
   "cell_type": "code",
   "execution_count": 16,
   "metadata": {},
   "outputs": [],
   "source": [
    "# load required library\n",
    "from langchain.text_splitter import RecursiveCharacterTextSplitter\n",
    "from langchain.embeddings import OpenAIEmbeddings\n",
    "from langchain.vectorstores import Chroma\n",
    "from langchain.chat_models import ChatOpenAI\n",
    "from langchain.document_loaders import PyPDFLoader\n",
    "from langchain.chains.question_answering import load_qa_chain\n",
    "\n",
    "\n",
    "import os\n",
    "from dotenv import load_dotenv\n",
    "\n",
    "load_dotenv()\n",
    "OPENAI_API_KEY = os.getenv(\"OPENAI_API_KEY\")\n",
    "\n",
    "\n",
    "# Load the embedding and LLM model\n",
    "embeddings_model = OpenAIEmbeddings()\n",
    "model = ChatOpenAI(model_name = \"gpt-3.5-turbo\", max_tokens = 200)"
   ]
  },
  {
   "cell_type": "markdown",
   "metadata": {},
   "source": [
    "### Load the transcript and split the text"
   ]
  },
  {
   "cell_type": "code",
   "execution_count": 3,
   "metadata": {},
   "outputs": [
    {
     "data": {
      "text/plain": [
       "\" Part 1: Industry; India's Renewable Power Journey\\nIndia's Electricity Challenge: Mee ng Growing Dem\""
      ]
     },
     "execution_count": 3,
     "metadata": {},
     "output_type": "execute_result"
    }
   ],
   "source": [
    "with open(\"XYZ_company_analysis.txt\") as file:\n",
    "    transcription = file.read()\n",
    "\n",
    "transcription[:100]"
   ]
  },
  {
   "cell_type": "code",
   "execution_count": 7,
   "metadata": {},
   "outputs": [
    {
     "data": {
      "text/plain": [
       "[Document(page_content=\" Part 1: Industry; India's Renewable Power Journey\\nIndia's Electricity Challenge: Mee ng Growing Demand\\nDid you know that India is the world's third-largest electricity producer? In FY22, the country\\nconsumed a whopping 1.7-petawa hours (PWh) (1,700 BU) of electricity! Most of this (86%) comes\\nfrom u lity genera on, totalling 1.48 PWh. Despite this, India's per capita power consump on is s ll\\nrela vely low at 1255 kWh. This is partly because the power industry's growth hasn't quite kept up\\nwith the rapid increase in demand.\\nHistoric Peak Power Demand\\nGuess what? In May 2024, India's peak power demand hit a record 250 GW! Looking ahead, India's\\npower demand is expected to grow by 70% by 2032 due to rising urbaniza on and increased demand\\nfrom various sectors.\\nPower Sector: Renewable vs Non-Renewable\\nThe solar energy sector in India is booming! Rising demand for roo op installa ons and the use of\\nsolar power in cap ve setups is driving this growth. It's es mated that solar capacity will exceed 280\\nGW, with an addi onal 125 GW needed to meet the GoI's goal of producing 5 million metric tons of\\ngreen hydrogen. The Ministry of New and Renewable Energy (MNRE) has a plan to add 50 GW of\\nrenewable capacity annually over the next ﬁve years, with quarterly bids of 10-15 GW.\\n\\nFY24A (GW)\\n109.0,\\n25%\\n82.6,\\n19%\\n\\nNon-Renewable Sources\\n\\n240.3,\\n56%\\n\\nFY30P (GW)\\n100, 17%\\n211, 36%\\n\\nSolar\\n\\nOther Renewable\\nSources\\n(Hydro+Wind+W2E, etc.)\\n\\nNon-Renewable Sources\\n\\n280, 47%\\n\\nSolar\\nOther Renewable\\nSources\\n(Hydro+Wind+W2E, etc.)\\n\\nConclusion\\nIsn't it exci ng to see how India is transforming its energy landscape? With the government's\\nsuppor ve policies and strategic ini a ves, the country is paving the way for a cleaner, more\\nsustainable future. Whether you're an investor, a business owner, or just someone who cares about\\nthe environment, there's no denying that India's renewable energy journey is something to watch!\\n\\n\\x0cPart 2: Transforming from India's Leading Module Manufacturer to a\\nRenewable Energy Powerhouse\\nXYZ Ltd (XYZ) is on an Exci ng New Journey!\\nXYZ is not just s cking to solar module manufacturing anymore. They're diving deep into the\\nrenewable energy sector, expanding into ingot, cell, wafer, and module setups. Here's a closer look at\\ntheir transforma on:\\nBusiness & Opera ons\\n\\uf0b7\\n\\nLeading the Pack: XYZ Corp is the leading company listed in the Approved List of Models and\\nManufacturers (ALMM). Addi onally, they are among the few companies capable of\\nproducing M12 mono PERC and bifacial modules.\\n\\n\\uf0b7\\n\\nUnderstanding Solar Modules: These are the core components of solar power systems,\\nconsis ng of numerous solar cells that convert sunlight into electricity. Most of the world's\\npolysilicon wafers (which are used in solar cells) come from China, holding about 80% of the\\nglobal market.\\n\\n\\uf0b7\\n\\nState-of-the-Art Facili es: XYZ Corp operates automated produc on lines across ﬁve\\nfactories, with plans for addi onal facili es underway.\\n\\n\\uf0b7\\n\\nInnova ve Technology: They were among the ﬁrst to develop commercially viable advanced\\nTOP-CON technology modules, known for their high eﬃciency.\\n\\n\\uf0b7\\n\\nStrong Collabora ons: XYZ works closely with the government, has joint ventures (JVs), and\\npartners with high-proﬁle clients, suppliers, and technology experts.\\n\\n\\uf0b7\\n\\nQuality Assurance: They boast the ﬁrst and only NABL-accredited laboratory in India for\\ntes ng PV modules.\\n\\nKey Highlights\\n\\uf0b7\\n\\nRapid Capacity Expansion: XYZ's capacity grew from 4 GW in 2022 to 12 GW by October\\n2023. They're also se ng up a 5.4 GW solar cell manufacturing facility in Chikhli, Gujarat,\\nwhich is expected to be opera onal by the end of FY24.\\n\\n\\uf0b7\\n\\nImpressive Order Book: XYZ is the second-largest solar module exporter to the USA, a er\\nChina, with an order book worth ₹47,000 Crores, transla ng to over 18 GW. The Indian solar\\nmanufacturing sector is booming, with big players like Adani and Vikram Solar planning\\nsigniﬁcant expansions.\\n\\n\\uf0b7\\n\\nDomina ng the Market: XYZ captured a 67.9% share of India's solar export market in FY23,\\nvalued at ₹4,616.5 Crores.\\n\\n\\uf0b7\\n\\nLeadership: Hitesh Doshi, the Chairman and Managing Director, has over 21 years of\\nexperience in the engineering industry. He holds a bachelor’s degree in commerce from the\\nUniversity of Mumbai and a doctorate in professional entrepreneurship in business project\\nmanagement from the European Con nental University. Under his leadership, Waaree\\n\\n\\x0cRenewable Technologies Ltd (WRTL), the EPC subsidiary of XYZ, saw a remarkable 1665%\\nyear-on-year growth in FY24 and maintained a ﬁve-year CAGR of 324%. XYZ holds a 74.5%\\nstake in WRTL as of the end of FY23.\\n\\uf0b7\\n\\nExpanding Product Por olio: The group is also stepping into ba ery manufacturing through\\nWaaree Technologies Ltd (WTL), where promoters hold a 59.1% share. Recently, they\\nannounced their entry into the electrolyser business.\\n\\nConclusion\\nXYZ's journey from a leading solar module manufacturer to a comprehensive renewable energy\\npowerhouse is truly remarkable. With their extensive growth, innova ve technologies, and strong\\nmarket presence, they're XYZ on their way to transforming the renewable energy landscape in India.\\nThis makes them an exci ng prospect for anyone looking into the renewable energy sector!\\nPart 3: Impressive Financial Growth and Future Expansion Plans for Waaree Energy Ltd (XYZ)\\nOutstanding Financial Performance in FY23\\nXYZ has achieved an astounding year-on-year net proﬁt growth of 528% in FY23. Their Return on\\nEquity (ROE) and Return on Capital Employed (ROCE) are also impressive. To support their next phase\\nof expansion, they successfully raised over ₹2,000 Crores through private placements (₹540\\npremium, pre-money valua on of ₹4,500 Crores). An addi onal ₹4,000 Crores will be ﬁnanced\\nthrough debt, and the rest will be raised through an IPO planned for FY25. These funds will be used\\nto expand their wafer-to-module produc on capacity by 6 GW.\\nStrong Debt Management and Growth Strategy\\nUnder the leadership of Doshi and Mehta, XYZ has eﬀec vely managed debt-driven expansion. Their\\nleverage levels have decreased from 2.1 in FY16 to less than 1 since FY20. Despite this, they\\nmaintained a solid average interest coverage ra o of 2.5 between FY16 and FY23. Ini ally, their ROE\\nwas driven by leverage un l FY19, but in recent years, rising asset turns and net proﬁts have become\\nthe primary drivers of ROE growth.\\nIPO Plans and Market Valua on\\nAccording to their latest Dra Red Herring Prospectus (Q3 FY24), XYZ has 25.3 Crore shares\\noutstanding on a diluted basis. The IPO will include fresh issues worth ₹3,000 Crores and an Oﬀer for\\nSale (OFS) of 35 lakh shares. As per ET sources, the IPO is es mated to be valued at $3 billion with a\\n10% dilu on. The cumula ve earnings for Q1 and Q2 of FY24 were ₹3,382 Crores, with net proﬁt\\nmargins of 10%.\\nAnnualizing the EPS of the ﬁrst two quarters and considering the current market price (CMP) of\\n₹2,250, the current P/E ra o is 82. However, as of April, CareEdge es mates the opera ng income to\\nreach ₹10,000 Crores in FY24. With an expected 10% dilu on and 10% net proﬁt margin, the\\nes mated EPS for FY24 is ₹35, resul ng in an es mated P/E ra o of 62.\\n\\n\\x0cExit Strategy\\n\\uf0b7\\n\\nShort Term (less than 1 year): In 2024, domes c IPOs have provided an average of 61%\\nlis ng gains. The top 10 IPOs from CY21 to CY23 oﬀered average lis ng gains of 128%, 39%,\\nand 87%, respec vely. Given the favourable geopoli cal climate and posi ve sen ment\\ntowards infrastructure and development, op mal lis ng gains (~50%) can be expected for\\nour target’s IPO scheduled in FY25.\\n\\n\\uf0b7\\n\\nLong Term (3-5 years): XYZ is on a path of backward integra on, aiming to expand from the\\ncurrent 12 GW to up to 35 GW by FY27, including advanced wafer, cell, and module\\nmanufacturing. The es mated EPS could grow to ₹60 in the midterm, poten ally increasing\\nthe share price by 120% to ₹5,000, with a forward P/E of 83.\\n\\nConclusion\\nXYZ's remarkable ﬁnancial growth and strategic expansion plans make it a compelling investment\\nopportunity. With their strong management, eﬃcient debt handling, and ambi ous future projects,\\nXYZ is well-posi oned to con nue its upward trajectory in the renewable energy sector. Whether\\nyou're looking for a long-term investment or a short-term gain, XYZ presents a promising prospect.\\n\\n\\x0c\", metadata={'source': 'XYZ_company_analysis.txt'})]"
      ]
     },
     "execution_count": 7,
     "metadata": {},
     "output_type": "execute_result"
    }
   ],
   "source": [
    "from langchain_community.document_loaders import TextLoader\n",
    "\n",
    "loader = TextLoader(\"XYZ_company_analysis.txt\")\n",
    "text_documents = loader.load()\n",
    "text_documents"
   ]
  },
  {
   "cell_type": "code",
   "execution_count": 9,
   "metadata": {},
   "outputs": [
    {
     "data": {
      "text/plain": [
       "[Document(page_content=\"Part 1: Industry; India's Renewable Power Journey\", metadata={'source': 'XYZ_company_analysis.txt'}),\n",
       " Document(page_content=\"India's Electricity Challenge: Mee ng Growing Demand\", metadata={'source': 'XYZ_company_analysis.txt'}),\n",
       " Document(page_content=\"Did you know that India is the world's third-largest electricity producer? In FY22, the country\", metadata={'source': 'XYZ_company_analysis.txt'}),\n",
       " Document(page_content='consumed a whopping 1.7-petawa hours (PWh) (1,700 BU) of electricity! Most of this (86%) comes', metadata={'source': 'XYZ_company_analysis.txt'}),\n",
       " Document(page_content=\"from u lity genera on, totalling 1.48 PWh. Despite this, India's per capita power consump on is s\", metadata={'source': 'XYZ_company_analysis.txt'})]"
      ]
     },
     "execution_count": 9,
     "metadata": {},
     "output_type": "execute_result"
    }
   ],
   "source": [
    "from langchain.text_splitter import RecursiveCharacterTextSplitter\n",
    "\n",
    "text_splitter = RecursiveCharacterTextSplitter(chunk_size=100, chunk_overlap=20)\n",
    "text_splitter.split_documents(text_documents)[:5]"
   ]
  },
  {
   "cell_type": "markdown",
   "metadata": {},
   "source": [
    "### Store the Splits in VectorStore"
   ]
  },
  {
   "cell_type": "code",
   "execution_count": 11,
   "metadata": {},
   "outputs": [],
   "source": [
    "text_splitter = RecursiveCharacterTextSplitter(chunk_size=100, chunk_overlap=20)\n",
    "documents = text_splitter.split_documents(text_documents)"
   ]
  },
  {
   "cell_type": "code",
   "execution_count": 12,
   "metadata": {},
   "outputs": [],
   "source": [
    "from langchain_community.vectorstores import DocArrayInMemorySearch\n",
    "from langchain_openai.embeddings import OpenAIEmbeddings\n",
    "\n",
    "embeddings = OpenAIEmbeddings()\n",
    "\n",
    "comp_analysis_vector_store = DocArrayInMemorySearch.from_documents(documents, embeddings)"
   ]
  },
  {
   "cell_type": "markdown",
   "metadata": {},
   "source": [
    "### Preparing Lang-chain"
   ]
  },
  {
   "cell_type": "code",
   "execution_count": 15,
   "metadata": {},
   "outputs": [],
   "source": [
    "from langchain_core.runnables import RunnableParallel, RunnablePassthrough\n",
    "from langchain_core.output_parsers import StrOutputParser\n",
    "\n",
    "parser = StrOutputParser()"
   ]
  },
  {
   "cell_type": "code",
   "execution_count": 14,
   "metadata": {},
   "outputs": [],
   "source": [
    "from langchain.prompts import ChatPromptTemplate\n",
    "\n",
    "template = \"\"\"\n",
    "Answer the question based on the context below, and modify the language in as simple way as possible. I want the answer in below mentioned headers:\n",
    "    - Summarize the Analysis and give 4-5 major bullet points\n",
    "    - Describe the Industry of the company\n",
    "    - Fundamental and Technical summary about the company\n",
    "If you can't answer the question, reply \"I don't know\".\n",
    "\n",
    "Context: {context}\n",
    "\n",
    "Question: {question}\n",
    "\"\"\"\n",
    "\n",
    "prompt = ChatPromptTemplate.from_template(template)"
   ]
  },
  {
   "cell_type": "code",
   "execution_count": null,
   "metadata": {},
   "outputs": [],
   "source": []
  },
  {
   "cell_type": "code",
   "execution_count": 18,
   "metadata": {},
   "outputs": [
    {
     "data": {
      "text/plain": [
       "\"### Summarize the Analysis\\n- XYZ company has transitioned from being a top solar module manufacturer to a diverse renewable energy company.\\n- The analysis of the company suggests growth and expansion into various sectors within the renewable energy industry.\\n- The company's journey showcases its evolution and adaptability to changing market demands.\\n- XYZ company's strategic decisions have positioned it as a significant player in the renewable energy sector.\\n\\n### Describe the Industry of the Company\\nThe company operates in the renewable energy industry, with a focus on solar energy and other sustainable energy sources. With a transition from being primarily a solar module manufacturer, XYZ now offers a comprehensive range of renewable energy solutions.\\n\\n### Fundamental and Technical Summary about the Company\\nXYZ company's fundamentals indicate a strong position in the renewable energy market, backed by strategic decisions and growth initiatives. The technical analysis suggests a positive outlook for the company's stock performance, reflecting its growth trajectory and market positioning.\""
      ]
     },
     "execution_count": 18,
     "metadata": {},
     "output_type": "execute_result"
    }
   ],
   "source": [
    "chain = (\n",
    "    {\"context\": comp_analysis_vector_store.as_retriever(), \"question\": RunnablePassthrough()}\n",
    "    | prompt\n",
    "    | model\n",
    "    | parser\n",
    ")\n",
    "chain.invoke(\"Summarize the company for me, provide the output in readable and markdown format\")"
   ]
  },
  {
   "cell_type": "markdown",
   "metadata": {},
   "source": [
    "### Summarize the Analysis\\n- XYZ company has transitioned from being a top solar module manufacturer to a diverse renewable energy company.\\n- The analysis of the company suggests growth and expansion into various sectors within the renewable energy industry.\\n- The company's journey showcases its evolution and adaptability to changing market demands.\\n- XYZ company's strategic decisions have positioned it as a significant player in the renewable energy sector.\\n\\n### Describe the Industry of the Company\\nThe company operates in the renewable energy industry, with a focus on solar energy and other sustainable energy sources. With a transition from being primarily a solar module manufacturer, XYZ now offers a comprehensive range of renewable energy solutions.\\n\\n### Fundamental and Technical Summary about the Company\\nXYZ company's fundamentals indicate a strong position in the renewable energy market, backed by strategic decisions and growth initiatives. The technical analysis suggests a positive outlook for the company's stock performance, reflecting its growth trajectory and market positioning.\""
   ]
  }
 ],
 "metadata": {
  "kernelspec": {
   "display_name": "Python 3",
   "language": "python",
   "name": "python3"
  },
  "language_info": {
   "codemirror_mode": {
    "name": "ipython",
    "version": 3
   },
   "file_extension": ".py",
   "mimetype": "text/x-python",
   "name": "python",
   "nbconvert_exporter": "python",
   "pygments_lexer": "ipython3",
   "version": "3.10.13"
  }
 },
 "nbformat": 4,
 "nbformat_minor": 2
}
